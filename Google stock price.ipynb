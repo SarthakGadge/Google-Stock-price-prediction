{
 "cells": [
  {
   "cell_type": "code",
   "execution_count": 1,
   "metadata": {},
   "outputs": [],
   "source": [
    "import numpy as np \n",
    "import pandas as pd \n",
    "import matplotlib.pyplot as plt \n",
    "from sklearn.preprocessing import MinMaxScaler\n",
    "from keras.models import Sequential\n",
    "from keras.layers import Dense,LSTM,Dropout"
   ]
  },
  {
   "cell_type": "code",
   "execution_count": 2,
   "metadata": {},
   "outputs": [
    {
     "data": {
      "text/html": [
       "<div>\n",
       "<style scoped>\n",
       "    .dataframe tbody tr th:only-of-type {\n",
       "        vertical-align: middle;\n",
       "    }\n",
       "\n",
       "    .dataframe tbody tr th {\n",
       "        vertical-align: top;\n",
       "    }\n",
       "\n",
       "    .dataframe thead th {\n",
       "        text-align: right;\n",
       "    }\n",
       "</style>\n",
       "<table border=\"1\" class=\"dataframe\">\n",
       "  <thead>\n",
       "    <tr style=\"text-align: right;\">\n",
       "      <th></th>\n",
       "      <th>Date</th>\n",
       "      <th>Open</th>\n",
       "      <th>High</th>\n",
       "      <th>Low</th>\n",
       "      <th>Close</th>\n",
       "      <th>Volume</th>\n",
       "    </tr>\n",
       "  </thead>\n",
       "  <tbody>\n",
       "    <tr>\n",
       "      <th>0</th>\n",
       "      <td>1/3/2012</td>\n",
       "      <td>325.25</td>\n",
       "      <td>332.83</td>\n",
       "      <td>324.97</td>\n",
       "      <td>663.59</td>\n",
       "      <td>7,380,500</td>\n",
       "    </tr>\n",
       "    <tr>\n",
       "      <th>1</th>\n",
       "      <td>1/4/2012</td>\n",
       "      <td>331.27</td>\n",
       "      <td>333.87</td>\n",
       "      <td>329.08</td>\n",
       "      <td>666.45</td>\n",
       "      <td>5,749,400</td>\n",
       "    </tr>\n",
       "    <tr>\n",
       "      <th>2</th>\n",
       "      <td>1/5/2012</td>\n",
       "      <td>329.83</td>\n",
       "      <td>330.75</td>\n",
       "      <td>326.89</td>\n",
       "      <td>657.21</td>\n",
       "      <td>6,590,300</td>\n",
       "    </tr>\n",
       "    <tr>\n",
       "      <th>3</th>\n",
       "      <td>1/6/2012</td>\n",
       "      <td>328.34</td>\n",
       "      <td>328.77</td>\n",
       "      <td>323.68</td>\n",
       "      <td>648.24</td>\n",
       "      <td>5,405,900</td>\n",
       "    </tr>\n",
       "    <tr>\n",
       "      <th>4</th>\n",
       "      <td>1/9/2012</td>\n",
       "      <td>322.04</td>\n",
       "      <td>322.29</td>\n",
       "      <td>309.46</td>\n",
       "      <td>620.76</td>\n",
       "      <td>11,688,800</td>\n",
       "    </tr>\n",
       "  </tbody>\n",
       "</table>\n",
       "</div>"
      ],
      "text/plain": [
       "       Date    Open    High     Low   Close      Volume\n",
       "0  1/3/2012  325.25  332.83  324.97  663.59   7,380,500\n",
       "1  1/4/2012  331.27  333.87  329.08  666.45   5,749,400\n",
       "2  1/5/2012  329.83  330.75  326.89  657.21   6,590,300\n",
       "3  1/6/2012  328.34  328.77  323.68  648.24   5,405,900\n",
       "4  1/9/2012  322.04  322.29  309.46  620.76  11,688,800"
      ]
     },
     "execution_count": 2,
     "metadata": {},
     "output_type": "execute_result"
    }
   ],
   "source": [
    "data = pd.read_csv('Google_train_data.csv')\n",
    "data.head()"
   ]
  },
  {
   "cell_type": "code",
   "execution_count": 4,
   "metadata": {
    "scrolled": true
   },
   "outputs": [
    {
     "name": "stdout",
     "output_type": "stream",
     "text": [
      "<class 'pandas.core.frame.DataFrame'>\n",
      "RangeIndex: 1258 entries, 0 to 1257\n",
      "Data columns (total 6 columns):\n",
      " #   Column  Non-Null Count  Dtype  \n",
      "---  ------  --------------  -----  \n",
      " 0   Date    1258 non-null   object \n",
      " 1   Open    1258 non-null   float64\n",
      " 2   High    1258 non-null   float64\n",
      " 3   Low     1258 non-null   float64\n",
      " 4   Close   1258 non-null   object \n",
      " 5   Volume  1258 non-null   object \n",
      "dtypes: float64(3), object(3)\n",
      "memory usage: 59.1+ KB\n"
     ]
    }
   ],
   "source": [
    "data.info()"
   ]
  },
  {
   "cell_type": "code",
   "execution_count": 17,
   "metadata": {},
   "outputs": [],
   "source": [
    "data[\"Close\"]=pd.to_numeric(data.Close,errors='coerce')\n",
    "data = data.dropna()\n",
    "trainData = data.iloc[:,4:5].values"
   ]
  },
  {
   "cell_type": "code",
   "execution_count": 6,
   "metadata": {},
   "outputs": [
    {
     "name": "stdout",
     "output_type": "stream",
     "text": [
      "<class 'pandas.core.frame.DataFrame'>\n",
      "Index: 1149 entries, 0 to 1257\n",
      "Data columns (total 6 columns):\n",
      " #   Column  Non-Null Count  Dtype  \n",
      "---  ------  --------------  -----  \n",
      " 0   Date    1149 non-null   object \n",
      " 1   Open    1149 non-null   float64\n",
      " 2   High    1149 non-null   float64\n",
      " 3   Low     1149 non-null   float64\n",
      " 4   Close   1149 non-null   float64\n",
      " 5   Volume  1149 non-null   object \n",
      "dtypes: float64(4), object(2)\n",
      "memory usage: 62.8+ KB\n"
     ]
    }
   ],
   "source": [
    "data.info()"
   ]
  },
  {
   "cell_type": "code",
   "execution_count": 7,
   "metadata": {},
   "outputs": [
    {
     "data": {
      "text/plain": [
       "(1149, 1)"
      ]
     },
     "execution_count": 7,
     "metadata": {},
     "output_type": "execute_result"
    }
   ],
   "source": [
    "sc = MinMaxScaler(feature_range=(0,1))\n",
    "trainData = sc.fit_transform(trainData)\n",
    "trainData.shape"
   ]
  },
  {
   "cell_type": "code",
   "execution_count": 8,
   "metadata": {},
   "outputs": [],
   "source": [
    "X_train = []\n",
    "y_train = []\n",
    "\n",
    "for i in range (60,1149): #60 : timestep // 1149 : length of the data\n",
    "    X_train.append(trainData[i-60:i,0]) \n",
    "    y_train.append(trainData[i,0])\n",
    "\n",
    "X_train,y_train = np.array(X_train),np.array(y_train)"
   ]
  },
  {
   "cell_type": "code",
   "execution_count": 9,
   "metadata": {},
   "outputs": [
    {
     "data": {
      "text/plain": [
       "(1089, 60, 1)"
      ]
     },
     "execution_count": 9,
     "metadata": {},
     "output_type": "execute_result"
    }
   ],
   "source": [
    "X_train = np.reshape(X_train,(X_train.shape[0],X_train.shape[1],1)) #adding the batch_size axis\n",
    "X_train.shape"
   ]
  },
  {
   "cell_type": "code",
   "execution_count": 10,
   "metadata": {},
   "outputs": [
    {
     "name": "stderr",
     "output_type": "stream",
     "text": [
      "C:\\Users\\sarth\\AppData\\Local\\Programs\\Python\\Python311\\Lib\\site-packages\\keras\\src\\layers\\rnn\\rnn.py:204: UserWarning: Do not pass an `input_shape`/`input_dim` argument to a layer. When using Sequential models, prefer using an `Input(shape)` object as the first layer in the model instead.\n",
      "  super().__init__(**kwargs)\n"
     ]
    }
   ],
   "source": [
    "model = Sequential()\n",
    "\n",
    "model.add(LSTM(units=100, return_sequences = True, input_shape =(X_train.shape[1],1)))\n",
    "model.add(Dropout(0.2))\n",
    "\n",
    "model.add(LSTM(units=100, return_sequences = True))\n",
    "model.add(Dropout(0.2))\n",
    "\n",
    "model.add(LSTM(units=100, return_sequences = True))\n",
    "model.add(Dropout(0.2))\n",
    "\n",
    "model.add(LSTM(units=100, return_sequences = False))\n",
    "model.add(Dropout(0.2))\n",
    "\n",
    "model.add(Dense(units =1))\n",
    "model.compile(optimizer='adam',loss=\"mean_squared_error\")"
   ]
  },
  {
   "cell_type": "code",
   "execution_count": 11,
   "metadata": {},
   "outputs": [
    {
     "name": "stdout",
     "output_type": "stream",
     "text": [
      "Epoch 1/20\n",
      "35/35 - 8s - 234ms/step - loss: 0.0301\n",
      "Epoch 2/20\n",
      "35/35 - 3s - 84ms/step - loss: 0.0099\n",
      "Epoch 3/20\n",
      "35/35 - 3s - 83ms/step - loss: 0.0103\n",
      "Epoch 4/20\n",
      "35/35 - 3s - 81ms/step - loss: 0.0076\n",
      "Epoch 5/20\n",
      "35/35 - 3s - 79ms/step - loss: 0.0071\n",
      "Epoch 6/20\n",
      "35/35 - 3s - 82ms/step - loss: 0.0075\n",
      "Epoch 7/20\n",
      "35/35 - 3s - 86ms/step - loss: 0.0083\n",
      "Epoch 8/20\n",
      "35/35 - 3s - 82ms/step - loss: 0.0077\n",
      "Epoch 9/20\n",
      "35/35 - 3s - 81ms/step - loss: 0.0062\n",
      "Epoch 10/20\n",
      "35/35 - 3s - 90ms/step - loss: 0.0056\n",
      "Epoch 11/20\n",
      "35/35 - 3s - 83ms/step - loss: 0.0064\n",
      "Epoch 12/20\n",
      "35/35 - 3s - 86ms/step - loss: 0.0057\n",
      "Epoch 13/20\n",
      "35/35 - 3s - 82ms/step - loss: 0.0061\n",
      "Epoch 14/20\n",
      "35/35 - 3s - 86ms/step - loss: 0.0056\n",
      "Epoch 15/20\n",
      "35/35 - 3s - 95ms/step - loss: 0.0048\n",
      "Epoch 16/20\n",
      "35/35 - 3s - 95ms/step - loss: 0.0048\n",
      "Epoch 17/20\n",
      "35/35 - 3s - 94ms/step - loss: 0.0047\n",
      "Epoch 18/20\n",
      "35/35 - 4s - 102ms/step - loss: 0.0060\n",
      "Epoch 19/20\n",
      "35/35 - 3s - 82ms/step - loss: 0.0047\n",
      "Epoch 20/20\n",
      "35/35 - 3s - 83ms/step - loss: 0.0045\n"
     ]
    }
   ],
   "source": [
    "hist = model.fit(X_train, y_train, epochs = 20, batch_size = 32, verbose=2)"
   ]
  },
  {
   "cell_type": "code",
   "execution_count": 12,
   "metadata": {},
   "outputs": [
    {
     "data": {
      "image/png": "[encoded data removed]",
      "text/plain": [
       "<Figure size 640x480 with 1 Axes>"
      ]
     },
     "metadata": {},
     "output_type": "display_data"
    }
   ],
   "source": [
    "plt.plot(hist.history['loss'])\n",
    "plt.title('Training model loss')\n",
    "plt.ylabel('loss')\n",
    "plt.xlabel('epoch')\n",
    "plt.legend(['train'], loc='upper left')\n",
    "plt.show()"
   ]
  },
  {
   "cell_type": "code",
   "execution_count": 13,
   "metadata": {},
   "outputs": [
    {
     "data": {
      "text/plain": [
       "(192, 60, 1)"
      ]
     },
     "execution_count": 13,
     "metadata": {},
     "output_type": "execute_result"
    }
   ],
   "source": [
    "testData = pd.read_csv('Google_test_data.csv')\n",
    "testData[\"Close\"]=pd.to_numeric(testData.Close,errors='coerce')\n",
    "testData = testData.dropna()\n",
    "testData = testData.iloc[:,4:5]\n",
    "y_test = testData.iloc[60:,0:].values \n",
    "#input array for the model\n",
    "inputClosing = testData.iloc[:,0:].values \n",
    "inputClosing_scaled = sc.transform(inputClosing)\n",
    "inputClosing_scaled.shape\n",
    "X_test = []\n",
    "length = len(testData)\n",
    "timestep = 60\n",
    "for i in range(timestep,length):  \n",
    "    X_test.append(inputClosing_scaled[i-timestep:i,0])\n",
    "X_test = np.array(X_test)\n",
    "X_test = np.reshape(X_test,(X_test.shape[0],X_test.shape[1],1))\n",
    "X_test.shape"
   ]
  },
  {
   "cell_type": "code",
   "execution_count": 14,
   "metadata": {},
   "outputs": [
    {
     "name": "stdout",
     "output_type": "stream",
     "text": [
      "\u001b[1m6/6\u001b[0m \u001b[32m━━━━━━━━━━━━━━━━━━━━\u001b[0m\u001b[37m\u001b[0m \u001b[1m1s\u001b[0m 44ms/step\n"
     ]
    },
    {
     "data": {
      "text/plain": [
       "array([[1.198034 ],\n",
       "       [1.200773 ],\n",
       "       [1.2133428],\n",
       "       [1.2318796],\n",
       "       [1.245081 ],\n",
       "       [1.2410245],\n",
       "       [1.2221224],\n",
       "       [1.1996977],\n",
       "       [1.1878605],\n",
       "       [1.1878569],\n",
       "       [1.1833514],\n",
       "       [1.1727118],\n",
       "       [1.1631339],\n",
       "       [1.1543653],\n",
       "       [1.1541966],\n",
       "       [1.1612464],\n",
       "       [1.1834066],\n",
       "       [1.2158774],\n",
       "       [1.2504331],\n",
       "       [1.2822694],\n",
       "       [1.289677 ],\n",
       "       [1.2786967],\n",
       "       [1.2501771],\n",
       "       [1.2152694],\n",
       "       [1.1879988],\n",
       "       [1.1770841],\n",
       "       [1.1802545],\n",
       "       [1.185407 ],\n",
       "       [1.1798819],\n",
       "       [1.1682037],\n",
       "       [1.1547366],\n",
       "       [1.139605 ],\n",
       "       [1.1169695],\n",
       "       [1.0896225],\n",
       "       [1.081485 ],\n",
       "       [1.0970285],\n",
       "       [1.125314 ],\n",
       "       [1.1537815],\n",
       "       [1.1775664],\n",
       "       [1.185587 ],\n",
       "       [1.1941788],\n",
       "       [1.2072026],\n",
       "       [1.2241693],\n",
       "       [1.2401795],\n",
       "       [1.250119 ],\n",
       "       [1.2490672],\n",
       "       [1.2357268],\n",
       "       [1.2254926],\n",
       "       [1.2247506],\n",
       "       [1.2343935],\n",
       "       [1.2517799],\n",
       "       [1.2623726],\n",
       "       [1.2639118],\n",
       "       [1.2586406],\n",
       "       [1.2557054],\n",
       "       [1.2511746],\n",
       "       [1.2417617],\n",
       "       [1.2380443],\n",
       "       [1.250259 ],\n",
       "       [1.2723291],\n",
       "       [1.3017975],\n",
       "       [1.3349586],\n",
       "       [1.354738 ],\n",
       "       [1.3524688],\n",
       "       [1.3331019],\n",
       "       [1.3073752],\n",
       "       [1.2925696],\n",
       "       [1.2913464],\n",
       "       [1.2996347],\n",
       "       [1.3088031],\n",
       "       [1.3161929],\n",
       "       [1.3194077],\n",
       "       [1.3136706],\n",
       "       [1.3059473],\n",
       "       [1.3000844],\n",
       "       [1.2990597],\n",
       "       [1.3023106],\n",
       "       [1.3087237],\n",
       "       [1.3224275],\n",
       "       [1.3421292],\n",
       "       [1.3665195],\n",
       "       [1.3882324],\n",
       "       [1.3978081],\n",
       "       [1.3951178],\n",
       "       [1.3959594],\n",
       "       [1.4088627],\n",
       "       [1.4290045],\n",
       "       [1.4457623],\n",
       "       [1.4540349],\n",
       "       [1.4542147],\n",
       "       [1.4542578],\n",
       "       [1.4645332],\n",
       "       [1.4842849],\n",
       "       [1.4968728],\n",
       "       [1.4938006],\n",
       "       [1.4766998],\n",
       "       [1.4505055],\n",
       "       [1.4228278],\n",
       "       [1.4024165],\n",
       "       [1.3992862],\n",
       "       [1.4121848],\n",
       "       [1.4342834],\n",
       "       [1.4596657],\n",
       "       [1.4788051],\n",
       "       [1.4873202],\n",
       "       [1.4846045],\n",
       "       [1.47694  ],\n",
       "       [1.4698695],\n",
       "       [1.470002 ],\n",
       "       [1.4770703],\n",
       "       [1.4888395],\n",
       "       [1.5038563],\n",
       "       [1.5178022],\n",
       "       [1.5317001],\n",
       "       [1.5487009],\n",
       "       [1.5620978],\n",
       "       [1.5713716],\n",
       "       [1.5791608],\n",
       "       [1.5903721],\n",
       "       [1.5670933],\n",
       "       [1.5102906],\n",
       "       [1.4422811],\n",
       "       [1.393103 ],\n",
       "       [1.3731053],\n",
       "       [1.3720776],\n",
       "       [1.3778435],\n",
       "       [1.3831453],\n",
       "       [1.3870069],\n",
       "       [1.3792634],\n",
       "       [1.3593746],\n",
       "       [1.3498217],\n",
       "       [1.3598764],\n",
       "       [1.3775382],\n",
       "       [1.3856789],\n",
       "       [1.3854764],\n",
       "       [1.381657 ],\n",
       "       [1.3741947],\n",
       "       [1.3631175],\n",
       "       [1.351724 ],\n",
       "       [1.3372276],\n",
       "       [1.3227289],\n",
       "       [1.3070532],\n",
       "       [1.2715516],\n",
       "       [1.228863 ],\n",
       "       [1.1892977],\n",
       "       [1.1614705],\n",
       "       [1.1544532],\n",
       "       [1.1693871],\n",
       "       [1.1966256],\n",
       "       [1.2246243],\n",
       "       [1.2494454],\n",
       "       [1.2670114],\n",
       "       [1.2784064],\n",
       "       [1.287892 ],\n",
       "       [1.295481 ],\n",
       "       [1.30307  ],\n",
       "       [1.3130099],\n",
       "       [1.3214004],\n",
       "       [1.316934 ],\n",
       "       [1.2993401],\n",
       "       [1.274975 ],\n",
       "       [1.2533405],\n",
       "       [1.2445837],\n",
       "       [1.252391 ],\n",
       "       [1.2738005],\n",
       "       [1.3028498],\n",
       "       [1.3260038],\n",
       "       [1.3405268],\n",
       "       [1.3517919],\n",
       "       [1.3620443],\n",
       "       [1.3705283],\n",
       "       [1.3776343],\n",
       "       [1.3835778],\n",
       "       [1.3852764],\n",
       "       [1.3828461],\n",
       "       [1.3728544],\n",
       "       [1.3611209],\n",
       "       [1.3544441],\n",
       "       [1.3511173],\n",
       "       [1.347883 ],\n",
       "       [1.3821952],\n",
       "       [1.4423785],\n",
       "       [1.4994164],\n",
       "       [1.533498 ],\n",
       "       [1.5400996],\n",
       "       [1.5226116],\n",
       "       [1.479606 ],\n",
       "       [1.4333321],\n",
       "       [1.399691 ],\n",
       "       [1.3935765],\n",
       "       [1.4037884],\n",
       "       [1.4146516]], dtype=float32)"
      ]
     },
     "execution_count": 14,
     "metadata": {},
     "output_type": "execute_result"
    }
   ],
   "source": [
    "y_pred = model.predict(X_test)\n",
    "y_pred"
   ]
  },
  {
   "cell_type": "code",
   "execution_count": 15,
   "metadata": {},
   "outputs": [],
   "source": [
    "predicted_price = sc.inverse_transform(y_pred)"
   ]
  },
  {
   "cell_type": "code",
   "execution_count": 16,
   "metadata": {},
   "outputs": [
    {
     "data": {
      "image/png": "[encoded data removed]",
      "text/plain": [
       "<Figure size 640x480 with 1 Axes>"
      ]
     },
     "metadata": {},
     "output_type": "display_data"
    }
   ],
   "source": [
    "plt.plot(y_test, color = 'red', label = 'Actual Stock Price')\n",
    "plt.plot(predicted_price, color = 'green', label = 'Predicted Stock Price')\n",
    "plt.title('Google stock price prediction')\n",
    "plt.xlabel('Time')\n",
    "plt.ylabel('Stock Price')\n",
    "plt.legend()\n",
    "plt.show()"
   ]
  },
  {
   "cell_type": "code",
   "execution_count": null,
   "metadata": {},
   "outputs": [],
   "source": []
  }
 ],
 "metadata": {
  "kernelspec": {
   "display_name": "Python 3 (ipykernel)",
   "language": "python",
   "name": "python3"
  },
  "language_info": {
   "codemirror_mode": {
    "name": "ipython",
    "version": 3
   },
   "file_extension": ".py",
   "mimetype": "text/x-python",
   "name": "python",
   "nbconvert_exporter": "python",
   "pygments_lexer": "ipython3",
   "version": "3.11.7"
  }
 },
 "nbformat": 4,
 "nbformat_minor": 4
}
